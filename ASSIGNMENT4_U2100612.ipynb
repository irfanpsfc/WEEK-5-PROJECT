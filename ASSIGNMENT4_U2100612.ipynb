{
 "cells": [
  {
   "cell_type": "code",
   "execution_count": 19,
   "id": "8c006003",
   "metadata": {},
   "outputs": [
    {
     "name": "stdout",
     "output_type": "stream",
     "text": [
      "Checkout Processed by : Sarah Connor\n",
      "Books Checked Out:\n",
      "- 1984\n",
      "- Brave New World\n",
      "Checkout Duration: 3weeks\n",
      "Additional Checkout details:\n",
      "- Late fee: $0.25 per day\n",
      "- Renewals Allowed: 2\n",
      "Special Conditions for Checkout\n",
      "- Handle with care\n"
     ]
    }
   ],
   "source": [
    "def checkout_books(librarian_name, *book_titles, duration='2 weeks', **kwargs):\n",
    "    print(f\"Checkout Processed by : {librarian_name}\")\n",
    "    print(\"Books Checked Out:\")\n",
    "    for book in book_titles:\n",
    "        print(f\"- {book}\")\n",
    "        \n",
    "    print(f\"Checkout Duration: {duration}\")\n",
    "    \n",
    "    if 'late_fee' in kwargs:\n",
    "        print(f\"Additional Checkout details:\")\n",
    "        print(f\"- Late fee: ${kwargs[ 'late_fee']} per day\")\n",
    "        \n",
    "    if 'renewals_allowed' in kwargs:\n",
    "        print(f\"- Renewals Allowed: {kwargs['renewals_allowed']}\")\n",
    "    \n",
    "    if 'special_conditions' in kwargs:\n",
    "        print(\"Special Conditions for Checkout\")\n",
    "        for condition in kwargs[ 'special_conditions'] :\n",
    "            print(f\"- {condition}\")\n",
    "                \n",
    "\n",
    "# Example usage:\n",
    "checkout_books(\"Sarah Connor\", \"1984\", \"Brave New World\", duration= '3weeks', late_fee = '0.25', renewals_allowed = '2', special_conditions =['Handle with care'])"
   ]
  }
 ],
 "metadata": {
  "kernelspec": {
   "display_name": "Python 3 (ipykernel)",
   "language": "python",
   "name": "python3"
  },
  "language_info": {
   "codemirror_mode": {
    "name": "ipython",
    "version": 3
   },
   "file_extension": ".py",
   "mimetype": "text/x-python",
   "name": "python",
   "nbconvert_exporter": "python",
   "pygments_lexer": "ipython3",
   "version": "3.11.5"
  }
 },
 "nbformat": 4,
 "nbformat_minor": 5
}
